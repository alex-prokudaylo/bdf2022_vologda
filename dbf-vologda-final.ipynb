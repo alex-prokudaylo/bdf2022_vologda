{
 "cells": [
  {
   "cell_type": "code",
   "execution_count": 1,
   "id": "90765c14",
   "metadata": {
    "_cell_guid": "b1076dfc-b9ad-4769-8c92-a6c4dae69d19",
    "_uuid": "8f2839f25d086af736a60e9eeb907d3b93b6e0e5",
    "execution": {
     "iopub.execute_input": "2022-09-29T16:37:02.922181Z",
     "iopub.status.busy": "2022-09-29T16:37:02.921544Z",
     "iopub.status.idle": "2022-09-29T16:37:02.956409Z",
     "shell.execute_reply": "2022-09-29T16:37:02.955122Z"
    },
    "papermill": {
     "duration": 0.043396,
     "end_time": "2022-09-29T16:37:02.959321",
     "exception": false,
     "start_time": "2022-09-29T16:37:02.915925",
     "status": "completed"
    },
    "tags": []
   },
   "outputs": [
    {
     "name": "stdout",
     "output_type": "stream",
     "text": [
      "/kaggle/input/dbf-subm-data/submission_4 (1).csv\n",
      "/kaggle/input/dbf-subm-data/submission_3 (1).csv\n",
      "/kaggle/input/dbf-subm-data/submission_2 (1).csv\n",
      "/kaggle/input/dbf-subm-data/submission_0.csv\n",
      "/kaggle/input/dbf-subm-data/submission_1 (3).csv\n",
      "/kaggle/input/bdf-data-rf1/submission_2.csv\n",
      "/kaggle/input/dbfdatalgbm/submission_2 (1).csv\n"
     ]
    }
   ],
   "source": [
    "import numpy as np # linear algebra\n",
    "import pandas as pd # data processing, CSV file I/O (e.g. pd.read_csv)\n",
    "import os\n",
    "for dirname, _, filenames in os.walk('/kaggle/input'):\n",
    "    for filename in filenames:\n",
    "        print(os.path.join(dirname, filename))\n"
   ]
  },
  {
   "cell_type": "code",
   "execution_count": 2,
   "id": "ad4cbe01",
   "metadata": {
    "execution": {
     "iopub.execute_input": "2022-09-29T16:37:02.967030Z",
     "iopub.status.busy": "2022-09-29T16:37:02.966286Z",
     "iopub.status.idle": "2022-09-29T16:37:03.011907Z",
     "shell.execute_reply": "2022-09-29T16:37:03.010233Z"
    },
    "papermill": {
     "duration": 0.052319,
     "end_time": "2022-09-29T16:37:03.014595",
     "exception": false,
     "start_time": "2022-09-29T16:37:02.962276",
     "status": "completed"
    },
    "tags": []
   },
   "outputs": [],
   "source": [
    "df_0 = pd.read_csv(\"../input/dbf-subm-data/submission_0.csv\")\n",
    "df_1 = pd.read_csv(\"../input/dbf-subm-data/submission_1 (3).csv\")\n",
    "df_2 = pd.read_csv(\"../input/dbfdatalgbm/submission_2 (1).csv\")\n",
    "df_3 = pd.read_csv(\"../input/dbf-subm-data/submission_3 (1).csv\")\n",
    "df_4 = pd.read_csv(\"../input/dbf-subm-data/submission_4 (1).csv\")"
   ]
  },
  {
   "cell_type": "code",
   "execution_count": 3,
   "id": "c7e1f1d0",
   "metadata": {
    "execution": {
     "iopub.execute_input": "2022-09-29T16:37:03.021804Z",
     "iopub.status.busy": "2022-09-29T16:37:03.021073Z",
     "iopub.status.idle": "2022-09-29T16:37:03.048034Z",
     "shell.execute_reply": "2022-09-29T16:37:03.047094Z"
    },
    "papermill": {
     "duration": 0.032964,
     "end_time": "2022-09-29T16:37:03.050260",
     "exception": false,
     "start_time": "2022-09-29T16:37:03.017296",
     "status": "completed"
    },
    "tags": []
   },
   "outputs": [
    {
     "data": {
      "text/html": [
       "<div>\n",
       "<style scoped>\n",
       "    .dataframe tbody tr th:only-of-type {\n",
       "        vertical-align: middle;\n",
       "    }\n",
       "\n",
       "    .dataframe tbody tr th {\n",
       "        vertical-align: top;\n",
       "    }\n",
       "\n",
       "    .dataframe thead th {\n",
       "        text-align: right;\n",
       "    }\n",
       "</style>\n",
       "<table border=\"1\" class=\"dataframe\">\n",
       "  <thead>\n",
       "    <tr style=\"text-align: right;\">\n",
       "      <th></th>\n",
       "      <th>RecordNo</th>\n",
       "      <th>Релевантность</th>\n",
       "    </tr>\n",
       "  </thead>\n",
       "  <tbody>\n",
       "    <tr>\n",
       "      <th>0</th>\n",
       "      <td>3366</td>\n",
       "      <td>0</td>\n",
       "    </tr>\n",
       "    <tr>\n",
       "      <th>1</th>\n",
       "      <td>3952</td>\n",
       "      <td>0</td>\n",
       "    </tr>\n",
       "    <tr>\n",
       "      <th>2</th>\n",
       "      <td>6852</td>\n",
       "      <td>0</td>\n",
       "    </tr>\n",
       "    <tr>\n",
       "      <th>3</th>\n",
       "      <td>4586</td>\n",
       "      <td>0</td>\n",
       "    </tr>\n",
       "    <tr>\n",
       "      <th>4</th>\n",
       "      <td>4677</td>\n",
       "      <td>0</td>\n",
       "    </tr>\n",
       "    <tr>\n",
       "      <th>...</th>\n",
       "      <td>...</td>\n",
       "      <td>...</td>\n",
       "    </tr>\n",
       "    <tr>\n",
       "      <th>2070</th>\n",
       "      <td>4661</td>\n",
       "      <td>0</td>\n",
       "    </tr>\n",
       "    <tr>\n",
       "      <th>2071</th>\n",
       "      <td>1547</td>\n",
       "      <td>0</td>\n",
       "    </tr>\n",
       "    <tr>\n",
       "      <th>2072</th>\n",
       "      <td>6071</td>\n",
       "      <td>1</td>\n",
       "    </tr>\n",
       "    <tr>\n",
       "      <th>2073</th>\n",
       "      <td>3805</td>\n",
       "      <td>0</td>\n",
       "    </tr>\n",
       "    <tr>\n",
       "      <th>2074</th>\n",
       "      <td>471</td>\n",
       "      <td>0</td>\n",
       "    </tr>\n",
       "  </tbody>\n",
       "</table>\n",
       "<p>2075 rows × 2 columns</p>\n",
       "</div>"
      ],
      "text/plain": [
       "      RecordNo  Релевантность\n",
       "0         3366              0\n",
       "1         3952              0\n",
       "2         6852              0\n",
       "3         4586              0\n",
       "4         4677              0\n",
       "...        ...            ...\n",
       "2070      4661              0\n",
       "2071      1547              0\n",
       "2072      6071              1\n",
       "2073      3805              0\n",
       "2074       471              0\n",
       "\n",
       "[2075 rows x 2 columns]"
      ]
     },
     "execution_count": 3,
     "metadata": {},
     "output_type": "execute_result"
    }
   ],
   "source": [
    "df_0"
   ]
  },
  {
   "cell_type": "code",
   "execution_count": 4,
   "id": "b3b5bb3d",
   "metadata": {
    "execution": {
     "iopub.execute_input": "2022-09-29T16:37:03.057903Z",
     "iopub.status.busy": "2022-09-29T16:37:03.057316Z",
     "iopub.status.idle": "2022-09-29T16:37:03.098670Z",
     "shell.execute_reply": "2022-09-29T16:37:03.097513Z"
    },
    "papermill": {
     "duration": 0.048045,
     "end_time": "2022-09-29T16:37:03.101246",
     "exception": false,
     "start_time": "2022-09-29T16:37:03.053201",
     "status": "completed"
    },
    "tags": []
   },
   "outputs": [
    {
     "data": {
      "text/html": [
       "<div>\n",
       "<style scoped>\n",
       "    .dataframe tbody tr th:only-of-type {\n",
       "        vertical-align: middle;\n",
       "    }\n",
       "\n",
       "    .dataframe tbody tr th {\n",
       "        vertical-align: top;\n",
       "    }\n",
       "\n",
       "    .dataframe thead th {\n",
       "        text-align: right;\n",
       "    }\n",
       "</style>\n",
       "<table border=\"1\" class=\"dataframe\">\n",
       "  <thead>\n",
       "    <tr style=\"text-align: right;\">\n",
       "      <th></th>\n",
       "      <th>RecordNo</th>\n",
       "      <th>Релевантность</th>\n",
       "      <th>Таксономия релевантные</th>\n",
       "      <th>Таксономия не релевантные</th>\n",
       "      <th>Длина отзыва</th>\n",
       "      <th>Ценности</th>\n",
       "    </tr>\n",
       "  </thead>\n",
       "  <tbody>\n",
       "    <tr>\n",
       "      <th>0</th>\n",
       "      <td>3366</td>\n",
       "      <td>0</td>\n",
       "      <td>0</td>\n",
       "      <td>0</td>\n",
       "      <td>0</td>\n",
       "      <td>1</td>\n",
       "    </tr>\n",
       "    <tr>\n",
       "      <th>1</th>\n",
       "      <td>3952</td>\n",
       "      <td>0</td>\n",
       "      <td>1</td>\n",
       "      <td>0</td>\n",
       "      <td>1</td>\n",
       "      <td>1</td>\n",
       "    </tr>\n",
       "    <tr>\n",
       "      <th>2</th>\n",
       "      <td>6852</td>\n",
       "      <td>0</td>\n",
       "      <td>0</td>\n",
       "      <td>0</td>\n",
       "      <td>0</td>\n",
       "      <td>1</td>\n",
       "    </tr>\n",
       "    <tr>\n",
       "      <th>3</th>\n",
       "      <td>4586</td>\n",
       "      <td>0</td>\n",
       "      <td>0</td>\n",
       "      <td>0</td>\n",
       "      <td>1</td>\n",
       "      <td>1</td>\n",
       "    </tr>\n",
       "    <tr>\n",
       "      <th>4</th>\n",
       "      <td>4677</td>\n",
       "      <td>0</td>\n",
       "      <td>0</td>\n",
       "      <td>0</td>\n",
       "      <td>0</td>\n",
       "      <td>0</td>\n",
       "    </tr>\n",
       "    <tr>\n",
       "      <th>...</th>\n",
       "      <td>...</td>\n",
       "      <td>...</td>\n",
       "      <td>...</td>\n",
       "      <td>...</td>\n",
       "      <td>...</td>\n",
       "      <td>...</td>\n",
       "    </tr>\n",
       "    <tr>\n",
       "      <th>2070</th>\n",
       "      <td>4661</td>\n",
       "      <td>0</td>\n",
       "      <td>1</td>\n",
       "      <td>0</td>\n",
       "      <td>0</td>\n",
       "      <td>1</td>\n",
       "    </tr>\n",
       "    <tr>\n",
       "      <th>2071</th>\n",
       "      <td>1547</td>\n",
       "      <td>0</td>\n",
       "      <td>0</td>\n",
       "      <td>0</td>\n",
       "      <td>0</td>\n",
       "      <td>0</td>\n",
       "    </tr>\n",
       "    <tr>\n",
       "      <th>2072</th>\n",
       "      <td>6071</td>\n",
       "      <td>1</td>\n",
       "      <td>1</td>\n",
       "      <td>0</td>\n",
       "      <td>1</td>\n",
       "      <td>1</td>\n",
       "    </tr>\n",
       "    <tr>\n",
       "      <th>2073</th>\n",
       "      <td>3805</td>\n",
       "      <td>0</td>\n",
       "      <td>0</td>\n",
       "      <td>0</td>\n",
       "      <td>0</td>\n",
       "      <td>0</td>\n",
       "    </tr>\n",
       "    <tr>\n",
       "      <th>2074</th>\n",
       "      <td>471</td>\n",
       "      <td>0</td>\n",
       "      <td>0</td>\n",
       "      <td>0</td>\n",
       "      <td>1</td>\n",
       "      <td>1</td>\n",
       "    </tr>\n",
       "  </tbody>\n",
       "</table>\n",
       "<p>2075 rows × 6 columns</p>\n",
       "</div>"
      ],
      "text/plain": [
       "      RecordNo  Релевантность  Таксономия релевантные  \\\n",
       "0         3366              0                       0   \n",
       "1         3952              0                       1   \n",
       "2         6852              0                       0   \n",
       "3         4586              0                       0   \n",
       "4         4677              0                       0   \n",
       "...        ...            ...                     ...   \n",
       "2070      4661              0                       1   \n",
       "2071      1547              0                       0   \n",
       "2072      6071              1                       1   \n",
       "2073      3805              0                       0   \n",
       "2074       471              0                       0   \n",
       "\n",
       "      Таксономия не релевантные  Длина отзыва  Ценности  \n",
       "0                             0             0         1  \n",
       "1                             0             1         1  \n",
       "2                             0             0         1  \n",
       "3                             0             1         1  \n",
       "4                             0             0         0  \n",
       "...                         ...           ...       ...  \n",
       "2070                          0             0         1  \n",
       "2071                          0             0         0  \n",
       "2072                          0             1         1  \n",
       "2073                          0             0         0  \n",
       "2074                          0             1         1  \n",
       "\n",
       "[2075 rows x 6 columns]"
      ]
     },
     "execution_count": 4,
     "metadata": {},
     "output_type": "execute_result"
    }
   ],
   "source": [
    "\n",
    "df = df_0.merge(df_1, how='left', on=\"RecordNo\")\n",
    "df = df.merge(df_2, how='left', on=\"RecordNo\")\n",
    "df = df.merge(df_3, how='left', on=\"RecordNo\")\n",
    "df = df.merge(df_4, how='left', on=\"RecordNo\")\n",
    "df"
   ]
  },
  {
   "cell_type": "code",
   "execution_count": 5,
   "id": "7440cab7",
   "metadata": {
    "execution": {
     "iopub.execute_input": "2022-09-29T16:37:03.109030Z",
     "iopub.status.busy": "2022-09-29T16:37:03.108650Z",
     "iopub.status.idle": "2022-09-29T16:37:03.119433Z",
     "shell.execute_reply": "2022-09-29T16:37:03.118306Z"
    },
    "papermill": {
     "duration": 0.017211,
     "end_time": "2022-09-29T16:37:03.121677",
     "exception": false,
     "start_time": "2022-09-29T16:37:03.104466",
     "status": "completed"
    },
    "tags": []
   },
   "outputs": [],
   "source": [
    "df.to_csv(f'/kaggle/working/submission_2909_2000.csv', index=False)"
   ]
  },
  {
   "cell_type": "code",
   "execution_count": 6,
   "id": "e3a17765",
   "metadata": {
    "execution": {
     "iopub.execute_input": "2022-09-29T16:37:03.129243Z",
     "iopub.status.busy": "2022-09-29T16:37:03.128863Z",
     "iopub.status.idle": "2022-09-29T16:37:03.143669Z",
     "shell.execute_reply": "2022-09-29T16:37:03.142422Z"
    },
    "papermill": {
     "duration": 0.021002,
     "end_time": "2022-09-29T16:37:03.145819",
     "exception": false,
     "start_time": "2022-09-29T16:37:03.124817",
     "status": "completed"
    },
    "tags": []
   },
   "outputs": [
    {
     "name": "stdout",
     "output_type": "stream",
     "text": [
      "RecordNo\n",
      "3366    1\n",
      "4938    1\n",
      "2778    1\n",
      "7017    1\n",
      "7937    1\n",
      "       ..\n",
      "7682    1\n",
      "3335    1\n",
      "2331    1\n",
      "4738    1\n",
      "471     1\n",
      "Name: RecordNo, Length: 2075, dtype: int64\n",
      "Релевантность\n",
      "0    1752\n",
      "1     323\n",
      "Name: Релевантность, dtype: int64\n",
      "Таксономия релевантные\n",
      "0    1162\n",
      "1     913\n",
      "Name: Таксономия релевантные, dtype: int64\n",
      "Таксономия не релевантные\n",
      "0    2034\n",
      "1      41\n",
      "Name: Таксономия не релевантные, dtype: int64\n",
      "Длина отзыва\n",
      "0    1626\n",
      "1     449\n",
      "Name: Длина отзыва, dtype: int64\n",
      "Ценности\n",
      "1    1202\n",
      "0     873\n",
      "Name: Ценности, dtype: int64\n"
     ]
    }
   ],
   "source": [
    "for col in df.columns:\n",
    "    print(col)\n",
    "    print(df[col].value_counts())"
   ]
  }
 ],
 "metadata": {
  "kernelspec": {
   "display_name": "Python 3",
   "language": "python",
   "name": "python3"
  },
  "language_info": {
   "codemirror_mode": {
    "name": "ipython",
    "version": 3
   },
   "file_extension": ".py",
   "mimetype": "text/x-python",
   "name": "python",
   "nbconvert_exporter": "python",
   "pygments_lexer": "ipython3",
   "version": "3.7.12"
  },
  "papermill": {
   "default_parameters": {},
   "duration": 10.265604,
   "end_time": "2022-09-29T16:37:03.770107",
   "environment_variables": {},
   "exception": null,
   "input_path": "__notebook__.ipynb",
   "output_path": "__notebook__.ipynb",
   "parameters": {},
   "start_time": "2022-09-29T16:36:53.504503",
   "version": "2.3.4"
  }
 },
 "nbformat": 4,
 "nbformat_minor": 5
}
